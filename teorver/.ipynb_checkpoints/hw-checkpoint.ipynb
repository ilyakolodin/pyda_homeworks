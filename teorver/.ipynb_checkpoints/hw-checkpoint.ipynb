{
 "cells": [
  {
   "cell_type": "code",
   "execution_count": 3,
   "metadata": {},
   "outputs": [],
   "source": [
    "import numpy as np"
   ]
  },
  {
   "cell_type": "code",
   "execution_count": 45,
   "metadata": {},
   "outputs": [],
   "source": [
    "def f_avt(vr):\n",
    "    if vr == 777: \n",
    "        return 200\n",
    "    elif vr == 999:\n",
    "        return 100\n",
    "    elif vr == 555:\n",
    "        return 50\n",
    "    elif vr == 333:\n",
    "        return 15\n",
    "    elif vr == 111:\n",
    "        return 10\n",
    "    elif str(vr)[-2:] == '77':\n",
    "        return 5\n",
    "    elif str(vr)[-1:] == '7':\n",
    "        return 3\n",
    "    elif str(vr)[-2:] == '00':\n",
    "        return 2\n",
    "    elif str(vr)[-1:] == '0':\n",
    "        return 1\n",
    "    else:\n",
    "        return 0"
   ]
  },
  {
   "cell_type": "code",
   "execution_count": 132,
   "metadata": {},
   "outputs": [
    {
     "data": {
      "text/plain": [
       "0.82859"
      ]
     },
     "execution_count": 132,
     "metadata": {},
     "output_type": "execute_result"
    }
   ],
   "source": [
    "n=100000\n",
    "np.mean(list(map(f_avt, np.random.randint(1000, size=n))))"
   ]
  },
  {
   "cell_type": "markdown",
   "metadata": {},
   "source": [
    "![](2021-01-21_08-58-19.png)"
   ]
  }
 ],
 "metadata": {
  "kernelspec": {
   "display_name": "Python 3",
   "language": "python",
   "name": "python3"
  },
  "language_info": {
   "codemirror_mode": {
    "name": "ipython",
    "version": 3
   },
   "file_extension": ".py",
   "mimetype": "text/x-python",
   "name": "python",
   "nbconvert_exporter": "python",
   "pygments_lexer": "ipython3",
   "version": "3.7.2"
  }
 },
 "nbformat": 4,
 "nbformat_minor": 2
}
